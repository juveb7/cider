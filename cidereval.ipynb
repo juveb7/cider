{
 "cells": [
  {
   "cell_type": "code",
   "execution_count": 1,
   "metadata": {
    "collapsed": false
   },
   "outputs": [],
   "source": [
    "# demo script for running CIDEr\n",
    "from PyDataFormat.loadData import LoadData\n",
    "import pdb\n",
    "import json\n",
    "from pyciderevalcap.eval import CIDErEvalCap as ciderEval\n",
    "from collections import defaultdict\n",
    "\n",
    "pathToData = './data/'\n",
    "\n",
    "refName = 'pascal50S.json'\n",
    "candName = 'pascal_candsB.json'\n",
    "\n",
    "result_file = 'results.json'"
   ]
  },
  {
   "cell_type": "code",
   "execution_count": 2,
   "metadata": {
    "collapsed": false
   },
   "outputs": [],
   "source": [
    "# load reference and candidate sentences\n",
    "loadDat = LoadData(pathToData)\n",
    "gts, res = loadDat.readJson(refName, candName)\n",
    "\n",
    "#res = res[:100]\n",
    "#gts = {img['image_id']: gts[img['image_id']] for img in res}"
   ]
  },
  {
   "cell_type": "code",
   "execution_count": 3,
   "metadata": {
    "collapsed": false
   },
   "outputs": [
    {
     "name": "stderr",
     "output_type": "stream",
     "text": [
      "PTBTokenizer tokenized 529108 tokens at 2132356.49 tokens per second.\n",
      "PTBTokenizer tokenized 49502 tokens at 465515.69 tokens per second.\n"
     ]
    }
   ],
   "source": [
    "from pyciderevalcap.ciderD.ciderD import CiderD\n",
    "from pyciderevalcap.cider.cider import Cider\n",
    "from pyciderevalcap.tokenizer.ptbtokenizer import PTBTokenizer\n",
    "tokenizer = PTBTokenizer('gts')\n",
    "_gts = tokenizer.tokenize(gts)\n",
    "tokenizer = PTBTokenizer('res')\n",
    "_res = tokenizer.tokenize(res)"
   ]
  },
  {
   "cell_type": "code",
   "execution_count": 4,
   "metadata": {
    "collapsed": true
   },
   "outputs": [
    {
     "name": "stderr",
     "output_type": "stream",
     "text": [
      "/home/918573232/code/cider/pyciderevalcap/ciderD/ciderD_scorer.py:70: RuntimeWarning: divide by zero encountered in log\n",
      "  self.ref_len = np.log(float(pkl_file['ref_len']))\n"
     ]
    }
   ],
   "source": [
    "scorer = Cider(df='coco-val')\n",
    "scorerD = CiderD(df='coco-val')"
   ]
  },
  {
   "cell_type": "code",
   "execution_count": 5,
   "metadata": {
    "collapsed": false
   },
   "outputs": [
    {
     "name": "stdout",
     "output_type": "stream",
     "text": [
      "<class 'float'>\n",
      "0.0\n"
     ]
    },
    {
     "ename": "TypeError",
     "evalue": "'float' object is not subscriptable",
     "output_type": "error",
     "traceback": [
      "\u001b[0;31m---------------------------------------------------------------------------\u001b[0m",
      "\u001b[0;31mTypeError\u001b[0m                                 Traceback (most recent call last)",
      "\u001b[1;32m/home/918573232/code/cider/cidereval.ipynb Cell 5\u001b[0m line \u001b[0;36m2\n\u001b[1;32m      <a href='vscode-notebook-cell://ssh-remote%2Bsrv-hh-306-133.at.sfsu.edu/home/918573232/code/cider/cidereval.ipynb#W4sdnNjb2RlLXJlbW90ZQ%3D%3D?line=0'>1</a>\u001b[0m \u001b[39m# score, scores = scorer.compute_score(_gts, _res)\u001b[39;00m\n\u001b[0;32m----> <a href='vscode-notebook-cell://ssh-remote%2Bsrv-hh-306-133.at.sfsu.edu/home/918573232/code/cider/cidereval.ipynb#W4sdnNjb2RlLXJlbW90ZQ%3D%3D?line=1'>2</a>\u001b[0m scoreD, scoresD \u001b[39m=\u001b[39m scorerD\u001b[39m.\u001b[39;49mcompute_score(_gts, _res)\n\u001b[1;32m      <a href='vscode-notebook-cell://ssh-remote%2Bsrv-hh-306-133.at.sfsu.edu/home/918573232/code/cider/cidereval.ipynb#W4sdnNjb2RlLXJlbW90ZQ%3D%3D?line=2'>3</a>\u001b[0m \u001b[39m# print(score)\u001b[39;00m\n\u001b[1;32m      <a href='vscode-notebook-cell://ssh-remote%2Bsrv-hh-306-133.at.sfsu.edu/home/918573232/code/cider/cidereval.ipynb#W4sdnNjb2RlLXJlbW90ZQ%3D%3D?line=3'>4</a>\u001b[0m \u001b[39mprint\u001b[39m(scoreD)\n",
      "File \u001b[0;32m~/code/cider/pyciderevalcap/ciderD/ciderD.py:49\u001b[0m, in \u001b[0;36mCiderD.compute_score\u001b[0;34m(self, gts, res)\u001b[0m\n\u001b[1;32m     46\u001b[0m     \u001b[39massert\u001b[39;00m(\u001b[39mlen\u001b[39m(ref) \u001b[39m>\u001b[39m \u001b[39m0\u001b[39m)\n\u001b[1;32m     47\u001b[0m     \u001b[39mself\u001b[39m\u001b[39m.\u001b[39mcider_scorer \u001b[39m+\u001b[39m\u001b[39m=\u001b[39m (hypo[\u001b[39m0\u001b[39m], ref)\n\u001b[0;32m---> 49\u001b[0m (score, scores) \u001b[39m=\u001b[39m \u001b[39mself\u001b[39;49m\u001b[39m.\u001b[39;49mcider_scorer\u001b[39m.\u001b[39;49mcompute_score()\n\u001b[1;32m     51\u001b[0m \u001b[39mreturn\u001b[39;00m score, scores\n",
      "File \u001b[0;32m~/code/cider/pyciderevalcap/ciderD/ciderD_scorer.py:209\u001b[0m, in \u001b[0;36mCiderScorer.compute_score\u001b[0;34m(self, option, verbose)\u001b[0m\n\u001b[1;32m    206\u001b[0m     \u001b[39massert\u001b[39;00m(\u001b[39mlen\u001b[39m(\u001b[39mself\u001b[39m\u001b[39m.\u001b[39mctest) \u001b[39m>\u001b[39m\u001b[39m=\u001b[39m \u001b[39mmax\u001b[39m(\u001b[39mself\u001b[39m\u001b[39m.\u001b[39mdocument_frequency\u001b[39m.\u001b[39mvalues()))\n\u001b[1;32m    207\u001b[0m     \u001b[39m# import json for now and write the corresponding files\u001b[39;00m\n\u001b[1;32m    208\u001b[0m \u001b[39m# compute cider score\u001b[39;00m\n\u001b[0;32m--> 209\u001b[0m score \u001b[39m=\u001b[39m \u001b[39mself\u001b[39;49m\u001b[39m.\u001b[39;49mcompute_cider()\n\u001b[1;32m    210\u001b[0m \u001b[39m# debug\u001b[39;00m\n\u001b[1;32m    211\u001b[0m \u001b[39m# print score\u001b[39;00m\n\u001b[1;32m    212\u001b[0m \u001b[39mreturn\u001b[39;00m np\u001b[39m.\u001b[39mmean(np\u001b[39m.\u001b[39marray(score)), np\u001b[39m.\u001b[39marray(score)\n",
      "File \u001b[0;32m~/code/cider/pyciderevalcap/ciderD/ciderD_scorer.py:184\u001b[0m, in \u001b[0;36mCiderScorer.compute_cider\u001b[0;34m(self)\u001b[0m\n\u001b[1;32m    181\u001b[0m scores \u001b[39m=\u001b[39m []\n\u001b[1;32m    182\u001b[0m \u001b[39mfor\u001b[39;00m test, refs \u001b[39min\u001b[39;00m \u001b[39mzip\u001b[39m(\u001b[39mself\u001b[39m\u001b[39m.\u001b[39mctest, \u001b[39mself\u001b[39m\u001b[39m.\u001b[39mcrefs):\n\u001b[1;32m    183\u001b[0m     \u001b[39m# compute vector for test captions\u001b[39;00m\n\u001b[0;32m--> 184\u001b[0m     vec, norm, length \u001b[39m=\u001b[39m counts2vec(test)\n\u001b[1;32m    185\u001b[0m     \u001b[39m# compute vector for ref captions\u001b[39;00m\n\u001b[1;32m    186\u001b[0m     score \u001b[39m=\u001b[39m np\u001b[39m.\u001b[39marray([\u001b[39m0.0\u001b[39m \u001b[39mfor\u001b[39;00m _ \u001b[39min\u001b[39;00m \u001b[39mrange\u001b[39m(\u001b[39mself\u001b[39m\u001b[39m.\u001b[39mn)])\n",
      "File \u001b[0;32m~/code/cider/pyciderevalcap/ciderD/ciderD_scorer.py:132\u001b[0m, in \u001b[0;36mCiderScorer.compute_cider.<locals>.counts2vec\u001b[0;34m(cnts)\u001b[0m\n\u001b[1;32m    130\u001b[0m \u001b[39mprint\u001b[39m(\u001b[39mtype\u001b[39m(\u001b[39mself\u001b[39m\u001b[39m.\u001b[39mdocument_frequency))\n\u001b[1;32m    131\u001b[0m \u001b[39mprint\u001b[39m(\u001b[39mself\u001b[39m\u001b[39m.\u001b[39mdocument_frequency)\n\u001b[0;32m--> 132\u001b[0m df \u001b[39m=\u001b[39m np\u001b[39m.\u001b[39mlog(\u001b[39mmax\u001b[39m(\u001b[39m1.0\u001b[39m, \u001b[39mself\u001b[39;49m\u001b[39m.\u001b[39;49mdocument_frequency[ngram]))\n\u001b[1;32m    134\u001b[0m \u001b[39m# ngram index\u001b[39;00m\n\u001b[1;32m    135\u001b[0m n \u001b[39m=\u001b[39m \u001b[39mlen\u001b[39m(ngram)\u001b[39m-\u001b[39m\u001b[39m1\u001b[39m\n",
      "\u001b[0;31mTypeError\u001b[0m: 'float' object is not subscriptable"
     ]
    }
   ],
   "source": [
    "# score, scores = scorer.compute_score(_gts, _res)\n",
    "scoreD, scoresD = scorerD.compute_score(_gts, _res)\n",
    "# print(score)\n",
    "print(scoreD)"
   ]
  }
 ],
 "metadata": {
  "kernelspec": {
   "display_name": "juveEnvNewCider",
   "language": "python",
   "name": "python3"
  },
  "language_info": {
   "codemirror_mode": {
    "name": "ipython",
    "version": 3
   },
   "file_extension": ".py",
   "mimetype": "text/x-python",
   "name": "python",
   "nbconvert_exporter": "python",
   "pygments_lexer": "ipython3",
   "version": "3.8.10"
  }
 },
 "nbformat": 4,
 "nbformat_minor": 0
}

{
 "cells": [
  {
   "cell_type": "code",
   "execution_count": 29,
   "metadata": {},
   "outputs": [
    {
     "name": "stderr",
     "output_type": "stream",
     "text": [
      "PTBTokenizer tokenized 529108 tokens at 2258342.36 tokens per second.\n",
      "PTBTokenizer tokenized 49502 tokens at 453442.30 tokens per second.\n"
     ]
    },
    {
     "name": "stdout",
     "output_type": "stream",
     "text": [
      "0.5580180601041953\n",
      "0.4594128636973375\n"
     ]
    }
   ],
   "source": [
    "\n",
    "# demo script for running CIDEr\n",
    "from PyDataFormat.loadData import LoadData\n",
    "import pdb\n",
    "import json\n",
    "from pyciderevalcap.eval import CIDErEvalCap as ciderEval\n",
    "from collections import defaultdict\n",
    "\n",
    "pathToData = './data/'\n",
    "\n",
    "refName = 'pascal50S.json'\n",
    "candName = 'pascal_candsB.json'\n",
    "\n",
    "result_file = 'results.json'\n",
    "# load reference and candidate sentences\n",
    "loadDat = LoadData(pathToData)\n",
    "gts, res = loadDat.readJson(refName, candName)\n",
    "\n",
    "#res = res[:100]\n",
    "#gts = {img['image_id']: gts[img['image_id']] for img in res}\n",
    "from pyciderevalcap.ciderD.ciderD import CiderD\n",
    "from pyciderevalcap.cider.cider import Cider\n",
    "from pyciderevalcap.tokenizer.ptbtokenizer import PTBTokenizer\n",
    "tokenizer = PTBTokenizer('gts')\n",
    "_gts = tokenizer.tokenize(gts)\n",
    "tokenizer = PTBTokenizer('res')\n",
    "_res = tokenizer.tokenize(res)\n",
    "scorer = Cider(df='coco-val')\n",
    "scorerD = CiderD(df='coco-val')\n",
    "score, scores = scorer.compute_score(_gts, _res)\n",
    "scoreD, scoresD = scorerD.compute_score(_gts, _res)\n",
    "print(score)\n",
    "print(scoreD)"
   ]
  },
  {
   "cell_type": "code",
   "execution_count": 11,
   "metadata": {},
   "outputs": [
    {
     "name": "stderr",
     "output_type": "stream",
     "text": [
      "PTBTokenizer tokenized 875795 tokens at 2676268.56 tokens per second.\n",
      "PTBTokenizer tokenized 77547 tokens at 619347.32 tokens per second.\n"
     ]
    },
    {
     "name": "stdout",
     "output_type": "stream",
     "text": [
      "0.6721903657453859\n"
     ]
    }
   ],
   "source": [
    "# demo script for running CIDEr\n",
    "from PyDataFormat.loadData import LoadData\n",
    "import pdb\n",
    "import json\n",
    "from pyciderevalcap.eval import CIDErEvalCap as ciderEval\n",
    "from collections import defaultdict\n",
    "\n",
    "pathToData = '/data1/juve/datasets/Vatex/json/'\n",
    "\n",
    "refName = 'test_captions.json'\n",
    "candName = 'caelen_model_vatex_test.json'\n",
    "\n",
    "result_file = 'results.json'\n",
    "# load reference and candidate sentences\n",
    "loadDat = LoadData(pathToData)\n",
    "gts, res = loadDat.readJson(refName, candName)\n",
    "\n",
    "#res = res[:100]\n",
    "#gts = {img['image_id']: gts[img['image_id']] for img in res}\n",
    "from pyciderevalcap.ciderD.ciderD import CiderD\n",
    "from pyciderevalcap.cider.cider import Cider\n",
    "from pyciderevalcap.tokenizer.ptbtokenizer import PTBTokenizer\n",
    "tokenizer = PTBTokenizer('gts')\n",
    "_gts = tokenizer.tokenize(gts)\n",
    "tokenizer = PTBTokenizer('res')\n",
    "_res = tokenizer.tokenize(res)\n",
    "scorer = Cider(df='coco-val')\n",
    "scorerD = CiderD(df='coco-val')\n",
    "score, scores = scorer.compute_score(_gts, _res)\n",
    "print(score)\n"
   ]
  },
  {
   "cell_type": "code",
   "execution_count": 15,
   "metadata": {},
   "outputs": [
    {
     "name": "stdout",
     "output_type": "stream",
     "text": [
      "loading annotations into memory...\n"
     ]
    },
    {
     "ename": "AssertionError",
     "evalue": "annotation file format <class 'list'> not supported",
     "output_type": "error",
     "traceback": [
      "\u001b[0;31m---------------------------------------------------------------------------\u001b[0m",
      "\u001b[0;31mAssertionError\u001b[0m                            Traceback (most recent call last)",
      "Cell \u001b[0;32mIn[15], line 4\u001b[0m\n\u001b[1;32m      1\u001b[0m \u001b[38;5;28;01mfrom\u001b[39;00m \u001b[38;5;21;01mpycocotools\u001b[39;00m\u001b[38;5;21;01m.\u001b[39;00m\u001b[38;5;21;01mcoco\u001b[39;00m \u001b[38;5;28;01mimport\u001b[39;00m COCO\n\u001b[1;32m      2\u001b[0m \u001b[38;5;28;01mfrom\u001b[39;00m \u001b[38;5;21;01mpycocoevalcap\u001b[39;00m\u001b[38;5;21;01m.\u001b[39;00m\u001b[38;5;21;01meval\u001b[39;00m \u001b[38;5;28;01mimport\u001b[39;00m COCOEvalCap\n\u001b[0;32m----> 4\u001b[0m coco \u001b[38;5;241m=\u001b[39m \u001b[43mCOCO\u001b[49m\u001b[43m(\u001b[49m\u001b[43mpathToData\u001b[49m\u001b[38;5;241;43m+\u001b[39;49m\u001b[43mrefName\u001b[49m\u001b[43m)\u001b[49m\n\u001b[1;32m      5\u001b[0m coco_result \u001b[38;5;241m=\u001b[39m coco\u001b[38;5;241m.\u001b[39mloadRes(pathToData\u001b[38;5;241m+\u001b[39mcandName)\n\u001b[1;32m      6\u001b[0m coco_eval \u001b[38;5;241m=\u001b[39m COCOEvalCap(_gts, _res)\n",
      "File \u001b[0;32m~/juveEnv/lib/python3.8/site-packages/pycocotools/coco.py:83\u001b[0m, in \u001b[0;36mCOCO.__init__\u001b[0;34m(self, annotation_file)\u001b[0m\n\u001b[1;32m     81\u001b[0m \u001b[38;5;28;01mwith\u001b[39;00m \u001b[38;5;28mopen\u001b[39m(annotation_file, \u001b[38;5;124m'\u001b[39m\u001b[38;5;124mr\u001b[39m\u001b[38;5;124m'\u001b[39m) \u001b[38;5;28;01mas\u001b[39;00m f:\n\u001b[1;32m     82\u001b[0m     dataset \u001b[38;5;241m=\u001b[39m json\u001b[38;5;241m.\u001b[39mload(f)\n\u001b[0;32m---> 83\u001b[0m \u001b[38;5;28;01massert\u001b[39;00m \u001b[38;5;28mtype\u001b[39m(dataset)\u001b[38;5;241m==\u001b[39m\u001b[38;5;28mdict\u001b[39m, \u001b[38;5;124m'\u001b[39m\u001b[38;5;124mannotation file format \u001b[39m\u001b[38;5;132;01m{}\u001b[39;00m\u001b[38;5;124m not supported\u001b[39m\u001b[38;5;124m'\u001b[39m\u001b[38;5;241m.\u001b[39mformat(\u001b[38;5;28mtype\u001b[39m(dataset))\n\u001b[1;32m     84\u001b[0m \u001b[38;5;28mprint\u001b[39m(\u001b[38;5;124m'\u001b[39m\u001b[38;5;124mDone (t=\u001b[39m\u001b[38;5;132;01m{:0.2f}\u001b[39;00m\u001b[38;5;124ms)\u001b[39m\u001b[38;5;124m'\u001b[39m\u001b[38;5;241m.\u001b[39mformat(time\u001b[38;5;241m.\u001b[39mtime()\u001b[38;5;241m-\u001b[39m tic))\n\u001b[1;32m     85\u001b[0m \u001b[38;5;28mself\u001b[39m\u001b[38;5;241m.\u001b[39mdataset \u001b[38;5;241m=\u001b[39m dataset\n",
      "\u001b[0;31mAssertionError\u001b[0m: annotation file format <class 'list'> not supported"
     ]
    }
   ],
   "source": [
    "from pycocotools.coco import COCO\n",
    "from pycocoevalcap.eval import COCOEvalCap\n",
    "\n",
    "coco = COCO(pathToData+refName)\n",
    "coco_result = coco.loadRes(pathToData+candName)\n",
    "coco_eval = COCOEvalCap(_gts, _res)"
   ]
  },
  {
   "cell_type": "code",
   "execution_count": 14,
   "metadata": {},
   "outputs": [
    {
     "data": {
      "text/plain": [
       "dict"
      ]
     },
     "execution_count": 14,
     "metadata": {},
     "output_type": "execute_result"
    }
   ],
   "source": [
    "type(_gts)"
   ]
  }
 ],
 "metadata": {
  "kernelspec": {
   "display_name": "juveEnvNewCider",
   "language": "python",
   "name": "python3"
  },
  "language_info": {
   "codemirror_mode": {
    "name": "ipython",
    "version": 3
   },
   "file_extension": ".py",
   "mimetype": "text/x-python",
   "name": "python",
   "nbconvert_exporter": "python",
   "pygments_lexer": "ipython3",
   "version": "3.8.10"
  }
 },
 "nbformat": 4,
 "nbformat_minor": 0
}
